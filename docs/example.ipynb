{
 "cells": [
  {
   "cell_type": "code",
   "execution_count": 6,
   "metadata": {},
   "outputs": [
    {
     "name": "stdout",
     "output_type": "stream",
     "text": [
      "Requirement already satisfied: requests in /Volumes/Data/Projects/shopify-doc-extractor/.venv/lib/python3.12/site-packages (2.32.3)\n",
      "Requirement already satisfied: charset-normalizer<4,>=2 in /Volumes/Data/Projects/shopify-doc-extractor/.venv/lib/python3.12/site-packages (from requests) (3.4.0)\n",
      "Requirement already satisfied: idna<4,>=2.5 in /Volumes/Data/Projects/shopify-doc-extractor/.venv/lib/python3.12/site-packages (from requests) (3.10)\n",
      "Requirement already satisfied: urllib3<3,>=1.21.1 in /Volumes/Data/Projects/shopify-doc-extractor/.venv/lib/python3.12/site-packages (from requests) (2.2.3)\n",
      "Requirement already satisfied: certifi>=2017.4.17 in /Volumes/Data/Projects/shopify-doc-extractor/.venv/lib/python3.12/site-packages (from requests) (2024.8.30)\n",
      "Note: you may need to restart the kernel to use updated packages.\n"
     ]
    }
   ],
   "source": [
    "%pip install requests\n",
    "\n",
    "import requests\n",
    "import json"
   ]
  },
  {
   "cell_type": "code",
   "execution_count": 58,
   "metadata": {},
   "outputs": [
    {
     "name": "stdout",
     "output_type": "stream",
     "text": [
      "Extraction successful!\n",
      "Source Title: About performance optimization\n",
      "Source URL: /docs/apps/build/performance\n",
      "Number of Doc Sections: 2\n",
      "Indexing successful!\n",
      "Indexing result: {'success': True}\n"
     ]
    }
   ],
   "source": [
    "# Define the URL and payload\n",
    "url = \"http://localhost:8080/extractor.v1.ExtractorService/Extract\"\n",
    "payload = {\n",
    "    \"url\": \"https://shopify.dev/docs/apps/build/performance\"\n",
    "}\n",
    "headers = {\n",
    "    \"Content-Type\": \"application/json\"\n",
    "}\n",
    "\n",
    "# Make the POST request\n",
    "response = requests.post(url, data=json.dumps(payload), headers=headers)\n",
    "\n",
    "docPage = {}\n",
    "\n",
    "# Check if the request was successful\n",
    "if response.status_code == 200:\n",
    "    # Parse the JSON response\n",
    "    result = response.json()\n",
    "    docPage = result.get(\"docPage\", {})\n",
    "    print(\"Extraction successful!\")\n",
    "    print(\"Source Title:\", docPage.get(\"sourceTitle\"))\n",
    "    print(\"Source URL:\", docPage.get(\"sourceUrl\"))\n",
    "    print(\"Number of Doc Sections:\", len(docPage.get(\"docSections\", [])))\n",
    "\n",
    "        # Define the URL and payload\n",
    "    payload = {\n",
    "        \"docPage\": docPage\n",
    "    }\n",
    "\n",
    "    headers = {\n",
    "        \"Content-Type\": \"application/json\"\n",
    "    }\n",
    "\n",
    "    # Make the POST request\n",
    "    response = requests.post(\"http://localhost:8080/indexer.v1.IndexerService/Index\", data=json.dumps(payload), headers=headers)\n",
    "\n",
    "    # Check if the request was successful\n",
    "    if response.status_code == 200:\n",
    "        # Parse the JSON response\n",
    "        result = response.json()\n",
    "        print(\"Indexing successful!\")\n",
    "        print(\"Indexing result:\", result)\n",
    "    else:\n",
    "        print(\"Error:\", response.status_code, response.text)\n",
    "else:\n",
    "    print(\"Error:\", response.status_code, response.text)\n",
    "\n",
    "\n"
   ]
  }
 ],
 "metadata": {
  "kernelspec": {
   "display_name": ".venv",
   "language": "python",
   "name": "python3"
  },
  "language_info": {
   "codemirror_mode": {
    "name": "ipython",
    "version": 3
   },
   "file_extension": ".py",
   "mimetype": "text/x-python",
   "name": "python",
   "nbconvert_exporter": "python",
   "pygments_lexer": "ipython3",
   "version": "3.12.7"
  }
 },
 "nbformat": 4,
 "nbformat_minor": 2
}
